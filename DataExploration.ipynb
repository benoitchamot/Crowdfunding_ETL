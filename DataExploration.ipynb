{
 "cells": [
  {
   "cell_type": "markdown",
   "metadata": {},
   "source": [
    "# Data exploration\n",
    "This notebook is used to navigate the different CSV file and understand how the data is structured and find whether entries in a column are unique or repeated. This is used to determine which fields can be used as primary keys and for which tables composite keys may be required. It is also used to determine the appropriate datatypes.\n",
    "\n",
    "**NOTE**: while this code is useful to automatically extract information about the data, the head of the DataFrame are displayed to allow the user to visually check the data and make educated decisions. This is especially useful when it comes to date that this code does not yet handled automatically."
   ]
  },
  {
   "cell_type": "code",
   "execution_count": 2,
   "metadata": {},
   "outputs": [],
   "source": [
    "# Dependencies\n",
    "import pandas as pd\n",
    "from pathlib import Path\n",
    "from pandas.api.types import is_string_dtype\n",
    "from pandas.api.types import is_numeric_dtype"
   ]
  },
  {
   "cell_type": "markdown",
   "metadata": {},
   "source": [
    "## Exploration function\n",
    "The function below is used to analyse the data in the files. It looks at the length of the file (number of rows), the number of columns and whether each column can be used as a primary key by comparing the number of unique values to the number or rows in the file. It also determine whether the values are numerical or strings. In case of strings, it looks at the maximum number of character to determine what the maximum VARCHAR length should be in the database.\n",
    "\n",
    "The function return a DataFrame containing the CSV file data for further analysis."
   ]
  },
  {
   "cell_type": "code",
   "execution_count": 6,
   "metadata": {},
   "outputs": [],
   "source": [
    "def explore_data(filename):\n",
    "    # Print file name\n",
    "    print(f\"File: {filename}\")\n",
    "\n",
    "    # Load the CSV file into a DataFrame\n",
    "    csvfile = Path(f'{filename}')\n",
    "    df = pd.read_csv(csvfile)\n",
    "\n",
    "    # Size of file\n",
    "    print(f\"Length of file: {len(df)} rows\")\n",
    "\n",
    "    # Number of columns\n",
    "    num_col = len(df.columns)\n",
    "    print(f\"Number of columns: {num_col}\")\n",
    "\n",
    "    for i in range(num_col):\n",
    "        # Count the number of unique values in column i\n",
    "        output_string = f\"- Column {i}: '{df.columns[i]}' has {df[df.columns[i]].nunique()} unique values\"\n",
    "    \n",
    "        # If the number of unique value in column i is the same as the number of rows...\n",
    "        if df[df.columns[i]].nunique() == len(df):\n",
    "            # ... then the column can be used as a primary key\n",
    "            output_string += ', and can be used as primary key'\n",
    "    \n",
    "        # Check whether the data is numeric\n",
    "        if is_numeric_dtype(df[df.columns[i]]):\n",
    "            # The code will suggest to use INT for any numeric value. This must be checked by the user.\n",
    "            output_string += '. Values are numeric. Suggest: INT'\n",
    "        \n",
    "        # Check whether the data are characters\n",
    "        elif is_string_dtype(df[df.columns[i]]):\n",
    "\n",
    "            max_length = df[df.columns[i]].map(lambda x: len(x)).max()\n",
    "\n",
    "            if max_length == 1:\n",
    "                # If there is only one charachter, CHAR(1) is suggested as data type.\n",
    "                output_string += f\". Values are strings. Suggest: CHAR(1)\"\n",
    "            else:\n",
    "                # If the maximum number of character is greater than one, VARCHAR(max) is suggested, a larger number may be used.\n",
    "                output_string += f\". Values are strings. Suggest: VARCHAR({max_length})\"\n",
    "\n",
    "        # State that the datatype cannot be determine\n",
    "        else:\n",
    "            output_string += '. Values are of an unknown type.'\n",
    "\n",
    "        # Print the information about column i\n",
    "        print(output_string)\n",
    "\n",
    "    print('Extract of data:')\n",
    "    display(df.head(2))\n",
    "    return df"
   ]
  },
  {
   "cell_type": "markdown",
   "metadata": {},
   "source": [
    "## File 1: category.csv"
   ]
  },
  {
   "cell_type": "code",
   "execution_count": 7,
   "metadata": {},
   "outputs": [
    {
     "name": "stdout",
     "output_type": "stream",
     "text": [
      "File: Resources/category.csv\n",
      "Length of file: 9 rows\n",
      "Number of columns: 2\n",
      "- Column 0: 'category_id' has 9 unique values, and can be used as primary key. Values are strings. Suggest: VARCHAR(4)\n",
      "- Column 1: 'category' has 9 unique values, and can be used as primary key. Values are strings. Suggest: VARCHAR(12)\n",
      "Extract of data:\n"
     ]
    },
    {
     "data": {
      "text/html": [
       "<div>\n",
       "<style scoped>\n",
       "    .dataframe tbody tr th:only-of-type {\n",
       "        vertical-align: middle;\n",
       "    }\n",
       "\n",
       "    .dataframe tbody tr th {\n",
       "        vertical-align: top;\n",
       "    }\n",
       "\n",
       "    .dataframe thead th {\n",
       "        text-align: right;\n",
       "    }\n",
       "</style>\n",
       "<table border=\"1\" class=\"dataframe\">\n",
       "  <thead>\n",
       "    <tr style=\"text-align: right;\">\n",
       "      <th></th>\n",
       "      <th>category_id</th>\n",
       "      <th>category</th>\n",
       "    </tr>\n",
       "  </thead>\n",
       "  <tbody>\n",
       "    <tr>\n",
       "      <th>0</th>\n",
       "      <td>cat1</td>\n",
       "      <td>food</td>\n",
       "    </tr>\n",
       "    <tr>\n",
       "      <th>1</th>\n",
       "      <td>cat2</td>\n",
       "      <td>music</td>\n",
       "    </tr>\n",
       "  </tbody>\n",
       "</table>\n",
       "</div>"
      ],
      "text/plain": [
       "  category_id category\n",
       "0        cat1     food\n",
       "1        cat2    music"
      ]
     },
     "metadata": {},
     "output_type": "display_data"
    }
   ],
   "source": [
    "filename = 'Resources/category.csv'\n",
    "df = explore_data(filename)"
   ]
  },
  {
   "cell_type": "markdown",
   "metadata": {},
   "source": [
    "## File 2: subcategory.csv"
   ]
  },
  {
   "cell_type": "code",
   "execution_count": 8,
   "metadata": {},
   "outputs": [
    {
     "name": "stdout",
     "output_type": "stream",
     "text": [
      "File: Resources/subcategory.csv\n",
      "Length of file: 24 rows\n",
      "Number of columns: 2\n",
      "- Column 0: 'subcategory_id' has 24 unique values, and can be used as primary key. Values are strings. Suggest: VARCHAR(8)\n",
      "- Column 1: 'subcategory' has 24 unique values, and can be used as primary key. Values are strings. Suggest: VARCHAR(17)\n",
      "Extract of data:\n"
     ]
    },
    {
     "data": {
      "text/html": [
       "<div>\n",
       "<style scoped>\n",
       "    .dataframe tbody tr th:only-of-type {\n",
       "        vertical-align: middle;\n",
       "    }\n",
       "\n",
       "    .dataframe tbody tr th {\n",
       "        vertical-align: top;\n",
       "    }\n",
       "\n",
       "    .dataframe thead th {\n",
       "        text-align: right;\n",
       "    }\n",
       "</style>\n",
       "<table border=\"1\" class=\"dataframe\">\n",
       "  <thead>\n",
       "    <tr style=\"text-align: right;\">\n",
       "      <th></th>\n",
       "      <th>subcategory_id</th>\n",
       "      <th>subcategory</th>\n",
       "    </tr>\n",
       "  </thead>\n",
       "  <tbody>\n",
       "    <tr>\n",
       "      <th>0</th>\n",
       "      <td>subcat1</td>\n",
       "      <td>food trucks</td>\n",
       "    </tr>\n",
       "    <tr>\n",
       "      <th>1</th>\n",
       "      <td>subcat2</td>\n",
       "      <td>rock</td>\n",
       "    </tr>\n",
       "  </tbody>\n",
       "</table>\n",
       "</div>"
      ],
      "text/plain": [
       "  subcategory_id  subcategory\n",
       "0        subcat1  food trucks\n",
       "1        subcat2         rock"
      ]
     },
     "metadata": {},
     "output_type": "display_data"
    }
   ],
   "source": [
    "filename = 'Resources/subcategory.csv'\n",
    "df = explore_data(filename)"
   ]
  },
  {
   "cell_type": "markdown",
   "metadata": {},
   "source": [
    "## File 3: campaign.csv"
   ]
  },
  {
   "cell_type": "code",
   "execution_count": 9,
   "metadata": {},
   "outputs": [
    {
     "name": "stdout",
     "output_type": "stream",
     "text": [
      "File: Resources/campaign_BChamot.csv\n",
      "Length of file: 1000 rows\n",
      "Number of columns: 14\n",
      "- Column 0: 'cf_id' has 1000 unique values, and can be used as primary key. Values are numeric. Suggest: INT\n",
      "- Column 1: 'contact_id' has 1000 unique values, and can be used as primary key. Values are numeric. Suggest: INT\n",
      "- Column 2: 'company_name' has 974 unique values. Values are strings. Suggest: VARCHAR(33)\n",
      "- Column 3: 'description' has 999 unique values. Values are strings. Suggest: VARCHAR(53)\n",
      "- Column 4: 'goal' has 447 unique values. Values are numeric. Suggest: INT\n",
      "- Column 5: 'pledged' has 964 unique values. Values are numeric. Suggest: INT\n",
      "- Column 6: 'outcome' has 4 unique values. Values are strings. Suggest: VARCHAR(10)\n",
      "- Column 7: 'backers_count' has 589 unique values. Values are numeric. Suggest: INT\n",
      "- Column 8: 'country' has 7 unique values. Values are strings. Suggest: VARCHAR(2)\n",
      "- Column 9: 'currency' has 7 unique values. Values are strings. Suggest: VARCHAR(3)\n",
      "- Column 10: 'launched_date' has 486 unique values. Values are strings. Suggest: VARCHAR(10)\n",
      "- Column 11: 'end_date' has 360 unique values. Values are strings. Suggest: VARCHAR(10)\n",
      "- Column 12: 'category_id' has 9 unique values. Values are strings. Suggest: VARCHAR(4)\n",
      "- Column 13: 'subcategory_id' has 24 unique values. Values are strings. Suggest: VARCHAR(8)\n",
      "Extract of data:\n"
     ]
    },
    {
     "data": {
      "text/html": [
       "<div>\n",
       "<style scoped>\n",
       "    .dataframe tbody tr th:only-of-type {\n",
       "        vertical-align: middle;\n",
       "    }\n",
       "\n",
       "    .dataframe tbody tr th {\n",
       "        vertical-align: top;\n",
       "    }\n",
       "\n",
       "    .dataframe thead th {\n",
       "        text-align: right;\n",
       "    }\n",
       "</style>\n",
       "<table border=\"1\" class=\"dataframe\">\n",
       "  <thead>\n",
       "    <tr style=\"text-align: right;\">\n",
       "      <th></th>\n",
       "      <th>cf_id</th>\n",
       "      <th>contact_id</th>\n",
       "      <th>company_name</th>\n",
       "      <th>description</th>\n",
       "      <th>goal</th>\n",
       "      <th>pledged</th>\n",
       "      <th>outcome</th>\n",
       "      <th>backers_count</th>\n",
       "      <th>country</th>\n",
       "      <th>currency</th>\n",
       "      <th>launched_date</th>\n",
       "      <th>end_date</th>\n",
       "      <th>category_id</th>\n",
       "      <th>subcategory_id</th>\n",
       "    </tr>\n",
       "  </thead>\n",
       "  <tbody>\n",
       "    <tr>\n",
       "      <th>0</th>\n",
       "      <td>147</td>\n",
       "      <td>4661</td>\n",
       "      <td>Baldwin, Riley and Jackson</td>\n",
       "      <td>Pre-emptive tertiary standardization</td>\n",
       "      <td>100.0</td>\n",
       "      <td>0.0</td>\n",
       "      <td>failed</td>\n",
       "      <td>0</td>\n",
       "      <td>CA</td>\n",
       "      <td>CAD</td>\n",
       "      <td>2020-02-13</td>\n",
       "      <td>2021-03-01</td>\n",
       "      <td>cat1</td>\n",
       "      <td>subcat1</td>\n",
       "    </tr>\n",
       "    <tr>\n",
       "      <th>1</th>\n",
       "      <td>1175</td>\n",
       "      <td>2288</td>\n",
       "      <td>Werner-Bryant</td>\n",
       "      <td>Virtual uniform frame</td>\n",
       "      <td>1800.0</td>\n",
       "      <td>7991.0</td>\n",
       "      <td>successful</td>\n",
       "      <td>222</td>\n",
       "      <td>US</td>\n",
       "      <td>USD</td>\n",
       "      <td>2020-06-20</td>\n",
       "      <td>2021-01-30</td>\n",
       "      <td>cat1</td>\n",
       "      <td>subcat1</td>\n",
       "    </tr>\n",
       "  </tbody>\n",
       "</table>\n",
       "</div>"
      ],
      "text/plain": [
       "   cf_id  contact_id                company_name  \\\n",
       "0    147        4661  Baldwin, Riley and Jackson   \n",
       "1   1175        2288               Werner-Bryant   \n",
       "\n",
       "                            description    goal  pledged     outcome  \\\n",
       "0  Pre-emptive tertiary standardization   100.0      0.0      failed   \n",
       "1                 Virtual uniform frame  1800.0   7991.0  successful   \n",
       "\n",
       "   backers_count country currency launched_date    end_date category_id  \\\n",
       "0              0      CA      CAD    2020-02-13  2021-03-01        cat1   \n",
       "1            222      US      USD    2020-06-20  2021-01-30        cat1   \n",
       "\n",
       "  subcategory_id  \n",
       "0        subcat1  \n",
       "1        subcat1  "
      ]
     },
     "metadata": {},
     "output_type": "display_data"
    }
   ],
   "source": [
    "filename = 'Resources/campaign_BChamot.csv'\n",
    "df = explore_data(filename)"
   ]
  },
  {
   "cell_type": "markdown",
   "metadata": {},
   "source": [
    "## File 4: contacts.csv"
   ]
  },
  {
   "cell_type": "code",
   "execution_count": 10,
   "metadata": {},
   "outputs": [
    {
     "name": "stdout",
     "output_type": "stream",
     "text": [
      "File: Resources/contacts_BChamot.csv\n",
      "Length of file: 1000 rows\n",
      "Number of columns: 4\n",
      "- Column 0: 'contact_id' has 1000 unique values, and can be used as primary key. Values are numeric. Suggest: INT\n",
      "- Column 1: 'first_name' has 1000 unique values, and can be used as primary key. Values are strings. Suggest: VARCHAR(12)\n",
      "- Column 2: 'last_name' has 1000 unique values, and can be used as primary key. Values are strings. Suggest: VARCHAR(13)\n",
      "- Column 3: 'email' has 1000 unique values, and can be used as primary key. Values are strings. Suggest: VARCHAR(42)\n",
      "Extract of data:\n"
     ]
    },
    {
     "data": {
      "text/html": [
       "<div>\n",
       "<style scoped>\n",
       "    .dataframe tbody tr th:only-of-type {\n",
       "        vertical-align: middle;\n",
       "    }\n",
       "\n",
       "    .dataframe tbody tr th {\n",
       "        vertical-align: top;\n",
       "    }\n",
       "\n",
       "    .dataframe thead th {\n",
       "        text-align: right;\n",
       "    }\n",
       "</style>\n",
       "<table border=\"1\" class=\"dataframe\">\n",
       "  <thead>\n",
       "    <tr style=\"text-align: right;\">\n",
       "      <th></th>\n",
       "      <th>contact_id</th>\n",
       "      <th>first_name</th>\n",
       "      <th>last_name</th>\n",
       "      <th>email</th>\n",
       "    </tr>\n",
       "  </thead>\n",
       "  <tbody>\n",
       "    <tr>\n",
       "      <th>0</th>\n",
       "      <td>4661</td>\n",
       "      <td>Cecilia</td>\n",
       "      <td>Velasco</td>\n",
       "      <td>cecilia.velasco@rodrigues.fr</td>\n",
       "    </tr>\n",
       "    <tr>\n",
       "      <th>1</th>\n",
       "      <td>3765</td>\n",
       "      <td>Mariana</td>\n",
       "      <td>Ellis</td>\n",
       "      <td>mariana.ellis@rossi.org</td>\n",
       "    </tr>\n",
       "  </tbody>\n",
       "</table>\n",
       "</div>"
      ],
      "text/plain": [
       "   contact_id first_name last_name                         email\n",
       "0        4661    Cecilia   Velasco  cecilia.velasco@rodrigues.fr\n",
       "1        3765    Mariana     Ellis       mariana.ellis@rossi.org"
      ]
     },
     "metadata": {},
     "output_type": "display_data"
    }
   ],
   "source": [
    "filename = 'Resources/contacts_BChamot.csv'\n",
    "df = explore_data(filename)"
   ]
  },
  {
   "cell_type": "markdown",
   "metadata": {},
   "source": [
    "# Conclusions from the exploration (OLD DATA)\n",
    "## Conclusions for Table 1: departments\n",
    "1. Column `dept_no` should be used as PRIMARY KEY.\n",
    "2. No FOREIGN KEY are used.\n",
    "\n",
    "## Conclusion for Table 2: dept_emp\n",
    "1. Column `emp_no` has repeating values. An employee can therefore be part of multiple departments.\n",
    "2. Column `dept_no` has repeating values. A depeartment can therefore include multiple employees.\n",
    "3. No PRIMARY KEY can be defined with the existing values.\n",
    "\n",
    "## Conclusions for Table 3: dept_manager\n",
    "1. Column `dept_no` has repeating values. A department may therefore have multiple managers.\n",
    "2. Column `emp_no` has no repeating values. An employee can then be manager in only one department.\n",
    "\n",
    "## Conclusions for Table 4: employees\n",
    "1. Column `emp_no` should be used as PRIMARY KEY.\n",
    "2. All the other columns have repeating values.\n",
    "3. Columns `birth_date` and `hire_date` are in format MDY (US)"
   ]
  },
  {
   "cell_type": "markdown",
   "metadata": {},
   "source": [
    "# Quick Database Diagram (OLD DATA)\n",
    "The following code can be used on https://app.quickdatabasediagrams.com to create the data model."
   ]
  },
  {
   "cell_type": "raw",
   "metadata": {},
   "source": [
    "# Modify this code to update the DB schema diagram.\n",
    "# To reset the sample schema, replace everything with\n",
    "# two dots ('..' - without quotes).\n",
    "\n",
    "departments\n",
    "--\n",
    "dept_no VARCHAR(4) PK\n",
    "dept_name VARCHAR(18)\n",
    "\n",
    "dept_emp\n",
    "--\n",
    "emp_no INT FK >- employees.emp_no\n",
    "dept_no VARCHAR(4) FK >- departments.dept_no\n",
    "\n",
    "dept_manager\n",
    "--\n",
    "dept_no VARCHAR(4) FK >- departments.dept_no\n",
    "emp_no INT FK - employees.emp_no\n",
    "\n",
    "employees\n",
    "--\n",
    "emp_no INT PK\n",
    "emp_title_id VARCHAR(5) FK >- titles.title_id\n",
    "birth_date VARCHAR(10)\n",
    "first_name VARCHAR(14)\n",
    "last_name VARCHAR(16)\n",
    "sex CHAR(1)\n",
    "hire_date VARCHAR(10)\n",
    "\n",
    "salaries\n",
    "--\n",
    "emp_no INT FK - employees.emp_no\n",
    "salary INT\n",
    "\n",
    "titles\n",
    "--\n",
    "title_id VARCHAR(5) PK\n",
    "title VARCHAR(18)"
   ]
  }
 ],
 "metadata": {
  "kernelspec": {
   "display_name": "dev",
   "language": "python",
   "name": "python3"
  },
  "language_info": {
   "codemirror_mode": {
    "name": "ipython",
    "version": 3
   },
   "file_extension": ".py",
   "mimetype": "text/x-python",
   "name": "python",
   "nbconvert_exporter": "python",
   "pygments_lexer": "ipython3",
   "version": "3.10.11"
  },
  "orig_nbformat": 4
 },
 "nbformat": 4,
 "nbformat_minor": 2
}
